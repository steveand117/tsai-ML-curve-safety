{
 "cells": [
  {
   "cell_type": "code",
   "execution_count": 1,
   "metadata": {},
   "outputs": [
    {
     "ename": "ModuleNotFoundError",
     "evalue": "No module named 'geopandas'",
     "output_type": "error",
     "traceback": [
      "\u001b[1;31m---------------------------------------------------------------------------\u001b[0m",
      "\u001b[1;31mModuleNotFoundError\u001b[0m                       Traceback (most recent call last)",
      "\u001b[1;32m<ipython-input-1-34ea144dba4b>\u001b[0m in \u001b[0;36m<module>\u001b[1;34m\u001b[0m\n\u001b[0;32m      1\u001b[0m \u001b[1;32mimport\u001b[0m \u001b[0mpandas\u001b[0m \u001b[1;32mas\u001b[0m \u001b[0mpd\u001b[0m\u001b[1;33m\u001b[0m\u001b[1;33m\u001b[0m\u001b[0m\n\u001b[1;32m----> 2\u001b[1;33m \u001b[1;32mimport\u001b[0m \u001b[0mgeopandas\u001b[0m \u001b[1;32mas\u001b[0m \u001b[0mgpd\u001b[0m\u001b[1;33m\u001b[0m\u001b[1;33m\u001b[0m\u001b[0m\n\u001b[0m\u001b[0;32m      3\u001b[0m \u001b[1;32mimport\u001b[0m \u001b[0mnumpy\u001b[0m \u001b[1;32mas\u001b[0m \u001b[0mnp\u001b[0m\u001b[1;33m\u001b[0m\u001b[1;33m\u001b[0m\u001b[0m\n\u001b[0;32m      4\u001b[0m \u001b[1;32mfrom\u001b[0m \u001b[0mutils\u001b[0m\u001b[1;33m.\u001b[0m\u001b[0mBBI_utils\u001b[0m \u001b[1;32mimport\u001b[0m \u001b[0mmergeData\u001b[0m\u001b[1;33m,\u001b[0m \u001b[0mcomputeBBI\u001b[0m\u001b[1;33m,\u001b[0m \u001b[0msimpleLowpassFilter\u001b[0m\u001b[1;33m,\u001b[0m \u001b[0mgetSuperelevation\u001b[0m\u001b[1;33m,\u001b[0m \u001b[0mgetAdvisorySpeed\u001b[0m\u001b[1;33m,\u001b[0m \u001b[0malignData\u001b[0m\u001b[1;33m\u001b[0m\u001b[1;33m\u001b[0m\u001b[0m\n\u001b[0;32m      5\u001b[0m \u001b[1;32mfrom\u001b[0m \u001b[0mutils\u001b[0m\u001b[1;33m.\u001b[0m\u001b[0mLRS_utils\u001b[0m \u001b[1;32mimport\u001b[0m \u001b[0mNCATgetReferencePoints\u001b[0m\u001b[1;33m,\u001b[0m \u001b[0mgetDistToMid\u001b[0m\u001b[1;33m,\u001b[0m \u001b[0mgetReferenceCurve\u001b[0m\u001b[1;33m,\u001b[0m \u001b[0mNCATgetRadius\u001b[0m\u001b[1;33m\u001b[0m\u001b[1;33m\u001b[0m\u001b[0m\n",
      "\u001b[1;31mModuleNotFoundError\u001b[0m: No module named 'geopandas'"
     ]
    }
   ],
   "source": [
    "import pandas as pd\n",
    "import geopandas as gpd\n",
    "import numpy as np\n",
    "from utils.BBI_utils import mergeData, computeBBI, simpleLowpassFilter, getSuperelevation, getAdvisorySpeed, alignData\n",
    "from utils.LRS_utils import NCATgetReferencePoints, getDistToMid, getReferenceCurve, NCATgetRadius\n",
    "from utils.NCAT_processing import NCAT_processing\n",
    "from utils.SR_processing import SR_processing\n",
    "\n",
    "\n",
    "loc = pd.read_csv(r'2021_03_11_07_36_21_506_loc.csv')\n",
    "acc = pd.read_csv(r'2021_03_11_07_36_21_506_acc.csv')\n",
    "crash = pd.read_csv(r'Crashdata.csv')\n",
    "# Chooses certain columns\n",
    "crash = crash.filter(items=['Road_Name', 'KABCO_Seve', 'Manner_of_', 'Location_a', 'Latitude', 'Longitude'])\n",
    "# Filters out all collision based crashes\n",
    "crash = crash[crash['Manner_of_'].eq('Not a Collision with Motor Vehicle')]\n",
    "# Filters out intersection crashes\n",
    "crash = crash[crash['Location_a'].str.contains('Non-Intersection') | crash['Location_a'].eq('Off Roadway')]\n",
    "print(crash)\n",
    "print(crash.shape)\n",
    "# SR_obj = SR_processing(inFiles=[r'2021_03_11_07_36_21_506_loc.csv',r'2021_03_11_07_36_21_506_acc.csv'])\n",
    "print(acc.columns)\n",
    "print(loc.columns)\n",
    "print(loc)\n",
    "# Not sure why this merge doesn't work...\n",
    "# all_csv_data = pd.merge(left=loc, right=acc, how='left', left_on='timestamp_utc_local', right_on='timestamp_nanosecond')\n",
    "all_csv_data = pd.concat([loc, acc], axis=1)\n",
    "print(all_csv_data)\n",
    "road_17 = gpd.read_file('0017_D1_2/0017_D1_2.shp')\n",
    "# print(SR_obj.gdf)"
   ]
  },
  {
   "cell_type": "code",
   "execution_count": 2,
   "metadata": {},
   "outputs": [],
   "source": [
    "def SmartPhoneProcessing(self, inFiles, dt):\n",
    "        \"\"\"\n",
    "        Cominbe tables\n",
    "        Create GeoDataFrame\n",
    "        Set crs and project to crs with unit of feet\n",
    "        find reference points\n",
    "        compute track dist of each point\n",
    "        find range idx of each lap\n",
    "        \"\"\"\n",
    "        print('Processing Smartphone Data ... ', end='')\n",
    "        # merge acceleration, gps and gyro data\n",
    "        df = mergeData(inFiles, dt=dt, col_keywords=[\n",
    "                       \"local\", \"timestamp\"], new_col_name=\"local_timestamp_utc\", GoPro=False)\n",
    "        # compute BBI\n",
    "        df = computeBBI(df, zero_range=[0, 10], lowpass_alpha=self.lowpassAlpha, x_acc_label='accel_y_mps2', y_acc_label='accel_x_mps2')\n",
    "        # Check if radius calculation need to have the sign flipped\n",
    "        zero_vector = getZeroVector(df, [0, 10], x_acc_label='accel_y_mps2', y_acc_label='accel_x_mps2')\n",
    "        if zero_vector[1] > 0:\n",
    "            flip_sign_flag = False\n",
    "        else:\n",
    "            flip_sign_flag = True\n",
    "        # filter GYRO\n",
    "        df['angvelocity_x_radps'] = simpleLowpassFilter(df['angvelocity_x_radps'].tolist(), alpha=float(self.lowpassAlpha))\n",
    "        # make GeoDataFrame\n",
    "        self.gdf = geopandas.GeoDataFrame(\n",
    "            df, geometry=geopandas.points_from_xy(df['longitude_dd'], df['latitude_dd']))\n",
    "        self.gdf = self.gdf.set_crs(\"epsg:4326\")\n",
    "        self.gdf = self.gdf.to_crs(\"EPSG:32166\")\n",
    "        # process data\n",
    "        self.gdf['Track_dist'] = self.gdf.apply(\n",
    "            lambda row: self.center_line.geometry[0].project(row['geometry']), axis=1)\n",
    "\n",
    "        self.gdf['Dist_to_mid'] = self.gdf.apply(lambda row: getDistToMid(\n",
    "            row['Track_dist'], self.track_length, self.referencePoints), axis=1)\n",
    "\n",
    "        self.gdf['Reference_curve'] = self.gdf.apply(lambda row: getReferenceCurve(\n",
    "            row['Track_dist'], self.referencePoints), axis=1)\n",
    "\n",
    "        self.interpolateMeasuredSuper()\n",
    "\n",
    "        self.gdf['Radius'] = self.gdf.apply(\n",
    "            lambda row: NCATgetRadius(row['Dist_to_mid']), axis=1)\n",
    "\n",
    "        self.gdf['adv_speed_measured'] = self.gdf.apply(lambda row: getAdvisorySpeed(\n",
    "            row['Measured_Superelevation'], row['Radius']), axis=1)\n",
    "\n",
    "        self.gdf['Superelevation'] = self.gdf.apply(lambda row: getSuperelevation(\n",
    "            row['speed_ms'], row['Radius'], row['BBI_computed_filtered'], k=self.suspension_para), axis=1)\n",
    "\n",
    "        self.gdf['adv_speed'] = self.gdf.apply(lambda row: getAdvisorySpeed(\n",
    "            row['Superelevation'], row['Radius']), axis=1)\n",
    "        \n",
    "        self.gdf['Radius_GYRO'] = self.gdf.apply(lambda row: GYROgetRadius(\n",
    "            row['speed_ms'], row['angvelocity_x_radps'], flip_sign=flip_sign_flag), axis=1)\n",
    "        \n",
    "        self.gdf['Superelevation_GYRO'] = self.gdf.apply(lambda row: getSuperelevation(\n",
    "            row['speed_ms'], row['Radius_GYRO'], row['BBI_computed_filtered'], k=self.suspension_para), axis=1)\n",
    "\n",
    "        self.gdf['adv_speed_GYRO'] = self.gdf.apply(lambda row: getAdvisorySpeed(\n",
    "            row['Superelevation_GYRO'], row['Radius']), axis=1)\n",
    "        \n",
    "        self.gdf['Side_friction_angle'] = self.gdf.apply(\n",
    "            lambda row: backCalculateBBI(row['speed_ms'], row['Radius_GYRO'], row['Measured_Superelevation']), axis=1)\n",
    "        \n",
    "        self.idx_range = getRangeIndex(self.gdf, 'Track_dist', self.mid_NT_dist)\n",
    "\n",
    "        self.getLapNumber()\n",
    "\n",
    "        print('Done!')"
   ]
  },
  {
   "cell_type": "code",
   "execution_count": 24,
   "metadata": {},
   "outputs": [
    {
     "name": "stdout",
     "output_type": "stream",
     "text": [
      "0    LINESTRING Z (2515783.921 1671794.719 0.000, 2...\n",
      "Name: geometry, dtype: geometry\n",
      "<class 'geopandas.geodataframe.GeoDataFrame'>\n",
      "{'init': 'epsg:2240'}\n",
      "{'init': 'epsg:2240'}\n",
      "{'init': 'epsg:2240'}\n",
      "   FID_0017_D  FID_Distri  OBJECTID  GDOT_DISTR  \\\n",
      "0           2           0         1           1   \n",
      "\n",
      "                                 GlobalID last_edite  FID_0017 Route_Numb  \\\n",
      "0  {AD4BC9BE-3FD8-4506-9A13-4BD2D4353A5F}       None         0       0017   \n",
      "\n",
      "   BUFF_DIST  ORIG_FID  FID_0017_1  FID_Dist_1  OBJECTID_2  GDOT_DIS_1  \\\n",
      "0        1.0         0           0           0           1           1   \n",
      "\n",
      "                               GlobalID_1 last_edi_1  FID_001_18 Route_Nu_1  \\\n",
      "0  {AD4BC9BE-3FD8-4506-9A13-4BD2D4353A5F}       None           0       0017   \n",
      "\n",
      "      Shape_Leng                                           geometry  \n",
      "0  206506.370329  LINESTRING Z (2515783.921 1671794.719 0.000, 2...  \n"
     ]
    },
    {
     "data": {
      "image/png": "[encoded data removed]",
      "text/plain": [
       "<Figure size 432x288 with 1 Axes>"
      ]
     },
     "metadata": {
      "needs_background": "light"
     },
     "output_type": "display_data"
    }
   ],
   "source": [
    "print(road_17.geometry)\n",
    "\n",
    "# print(road_17)\n",
    "print(type(road_17))\n",
    "print(road_17.geometry.crs)\n",
    "print(road_17.geometry.crs)\n",
    "print(road_17.crs)\n",
    "base = road_17.plot(color='blue')\n",
    "print(road_17)\n",
    "# road_17.plot()"
   ]
  },
  {
   "cell_type": "code",
   "execution_count": 29,
   "metadata": {},
   "outputs": [
    {
     "name": "stdout",
     "output_type": "stream",
     "text": [
      "{'init': 'epsg:2240'}\n",
      "{'init': 'epsg:2240'}\n"
     ]
    },
    {
     "data": {
      "text/plain": [
       "<AxesSubplot:>"
      ]
     },
     "execution_count": 29,
     "metadata": {},
     "output_type": "execute_result"
    },
    {
     "data": {
      "image/png": "[encoded data removed]",
      "text/plain": [
       "<Figure size 432x288 with 1 Axes>"
      ]
     },
     "metadata": {
      "needs_background": "light"
     },
     "output_type": "display_data"
    },
    {
     "data": {
      "image/png": "[encoded data removed]",
      "text/plain": [
       "<Figure size 432x288 with 1 Axes>"
      ]
     },
     "metadata": {
      "needs_background": "light"
     },
     "output_type": "display_data"
    }
   ],
   "source": [
    "smartphone = gpd.GeoDataFrame(\n",
    "    loc, geometry=gpd.points_from_xy(x=loc.longitude_dd, y=loc.latitude_dd)\n",
    ")\n",
    "road_17['speed'] = [0]\n",
    "smartphone['speed'] = loc[' speed_ms']\n",
    "\n",
    "smartphone = gpd.GeoDataFrame(smartphone, geometry=smartphone['geometry'])\n",
    "smartphone.crs = {'init' :'epsg:4326'}\n",
    "#smartphone = smartphone.to_crs({'init' :'epsg:4326'}) \n",
    "\n",
    "\n",
    "print(road_17.crs)\n",
    "smartphone = smartphone.to_crs(road_17.crs)\n",
    "# road_17 = road_17.to_crs(smartphone.crs)\n",
    "print(smartphone.crs)\n",
    "smartphone.plot(column='speed');\n",
    "\n",
    "combined = smartphone.append(road_17)\n",
    "from shapely.geometry import Point\n",
    "#print(road_17.geometry.project(Point(1,2)))\n",
    "#print(road_17.geometry.interpolate(114994.071224))\n",
    "#print(type(road_17.geometry))\n",
    "sections = gpd.GeoSeries()\n",
    "for x in np.arange(0, 10000, 50):\n",
    "    point = road_17.geometry.interpolate(x)\n",
    "    sections = sections.append(point)\n",
    "\n",
    "crash_points = gpd.GeoDataFrame(\n",
    "    crash, geometry=gpd.points_from_xy(x=crash.Longitude, y=crash.Latitude)\n",
    ")\n",
    "crash_points.crs = {'init' :'epsg:4326'}\n",
    "crash_points = crash_points.to_crs(road_17.crs)\n",
    "crash_points['speed'] = 5\n",
    "# for index, row in all_csv_data.iterrows():\n",
    "#     to_interpolate = road_17.geometry.project(Point(row['longitude_dd'], row['latitude_dd']))\n",
    "#     print(to_interpolate)\n",
    "#     point = road_17.geometry.interpolate(to_interpolate)\n",
    "#     print(point)\n",
    "#     sections = sections.append(point)\n",
    "#     if (index > 500):\n",
    "#         break\n",
    "sections = gpd.GeoDataFrame(geometry=sections)\n",
    "sections['speed'] = 5\n",
    "combined = combined.append(sections)\n",
    "combined = combined.append(crash_points)\n",
    "combined.plot(column='speed')\n",
    "# smartphone.plot()"
   ]
  },
  {
   "cell_type": "code",
   "execution_count": null,
   "metadata": {},
   "outputs": [],
   "source": []
  },
  {
   "cell_type": "code",
   "execution_count": 11,
   "metadata": {},
   "outputs": [
    {
     "name": "stdout",
     "output_type": "stream",
     "text": [
      "hello\n"
     ]
    }
   ],
   "source": [
    "import cv2\n",
    "import numpy as np\n",
    "\n",
    "# Create a VideoCapture object and read from input file\n",
    "# If the input is the camera, pass 0 instead of the video file name\n",
    "cap = cv2.VideoCapture('camera/2021_06_03_14_57_18_660_cam_2021_06_03_14_57_18_660.mp4')\n",
    "\n",
    "# Check if camera opened successfully\n",
    "if (cap.isOpened()== False): \n",
    "    print(\"Error opening video stream or file\")\n",
    "\n",
    "# Read until video is completed\n",
    "while(cap.isOpened()):\n",
    "  # Capture frame-by-frame\n",
    "    ret, frame = cap.read()\n",
    "    if ret == True:\n",
    "        # Display the resulting frame\n",
    "        cv2.imshow('Frame',frame)\n",
    "\n",
    "        # Press Q on keyboard to  exit\n",
    "        key = cv2.waitKey(25)\n",
    "        if key == 32:\n",
    "            cv2.waitKey()\n",
    "        elif key & 0xFF == ord('q'):\n",
    "            break\n",
    "        \n",
    "  # Break the loop\n",
    "    else: \n",
    "        break\n",
    "\n",
    "# When everything done, release the video capture object\n",
    "cap.release()\n",
    "\n",
    "# Closes all the frames\n",
    "cv2.destroyAllWindows()\n"
   ]
  },
  {
   "cell_type": "code",
   "execution_count": 14,
   "metadata": {},
   "outputs": [
    {
     "data": {
      "text/html": [
       "<video src=\"camera/2021_06_03_14_57_18_660_cam_2021_06_03_14_57_18_660.mp4\" controls  >\n",
       "      Your browser does not support the <code>video</code> element.\n",
       "    </video>"
      ],
      "text/plain": [
       "<IPython.core.display.Video object>"
      ]
     },
     "execution_count": 14,
     "metadata": {},
     "output_type": "execute_result"
    }
   ],
   "source": [
    "from IPython.display import Video\n",
    "\n",
    "Video(\"camera/2021_06_03_14_57_18_660_cam_2021_06_03_14_57_18_660.mp4\")"
   ]
  }
 ],
 "metadata": {
  "kernelspec": {
   "display_name": "Python 3",
   "language": "python",
   "name": "python3"
  },
  "language_info": {
   "codemirror_mode": {
    "name": "ipython",
    "version": 3
   },
   "file_extension": ".py",
   "mimetype": "text/x-python",
   "name": "python",
   "nbconvert_exporter": "python",
   "pygments_lexer": "ipython3",
   "version": "3.8.5"
  }
 },
 "nbformat": 4,
 "nbformat_minor": 4
}
